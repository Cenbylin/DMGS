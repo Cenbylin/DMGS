{
 "cells": [
  {
   "cell_type": "code",
   "execution_count": null,
   "metadata": {},
   "outputs": [],
   "source": [
    "import torch\n",
    "\n",
    "res = 60\n",
    "xx, yy, zz = torch.meshgrid([\n",
    "    torch.linspace(-0.5, 0.5, res),  \n",
    "    torch.linspace(-0.5, 0.5, res),  \n",
    "    torch.linspace(-0.5, 0.5, res),\n",
    "], indexing='ij')\n",
    "vertices = torch.stack([\n",
    "    xx.flatten(), yy.flatten(), zz.flatten()\n",
    "], dim=-1)\n",
    "\n",
    "ind_grid = torch.arange(0, vertices.shape[0]).view(res, res, res)\n",
    "s_0, s_1 = slice(None, -1), slice(1, None)\n",
    "indices_grid = torch.stack([\n",
    "    torch.stack([ind_grid[s_0,s_0,s_0], ind_grid[s_1,s_0,s_1], \n",
    "                 ind_grid[s_1,s_0,s_0], ind_grid[s_0,s_1,s_0]], dim=-1),\n",
    "    torch.stack([ind_grid[s_1,s_0,s_0], ind_grid[s_1,s_1,s_0], \n",
    "                 ind_grid[s_0,s_1,s_0], ind_grid[s_1,s_0,s_1]], dim=-1),\n",
    "    torch.stack([ind_grid[s_0,s_1,s_0], ind_grid[s_1,s_1,s_0], \n",
    "                 ind_grid[s_1,s_1,s_1], ind_grid[s_1,s_0,s_1]], dim=-1),\n",
    "    torch.stack([ind_grid[s_0,s_1,s_0], ind_grid[s_0,s_1,s_1], \n",
    "                 ind_grid[s_1,s_0,s_1], ind_grid[s_1,s_1,s_1]], dim=-1),\n",
    "    torch.stack([ind_grid[s_0,s_1,s_0], ind_grid[s_0,s_1,s_1], \n",
    "                 ind_grid[s_0,s_0,s_1], ind_grid[s_1,s_0,s_1]], dim=-1),\n",
    "    torch.stack([ind_grid[s_0,s_0,s_0], ind_grid[s_0,s_1,s_0], \n",
    "                 ind_grid[s_0,s_0,s_1], ind_grid[s_1,s_0,s_1]], dim=-1),\n",
    "], dim=-2)\n",
    "indices = indices_grid.view(-1, 4)"
   ]
  },
  {
   "cell_type": "code",
   "execution_count": null,
   "metadata": {},
   "outputs": [],
   "source": [
    "import matplotlib.pyplot as plt\n",
    "def plot_tetrahedron_edges(vertices, c='blue'):\n",
    "    \"\"\"\n",
    "    Plot the edges of a tetrahedron given its vertices.\n",
    "\n",
    "    :param vertices: A 4x3 array of vertices.\n",
    "    \"\"\"\n",
    "    # Define the edges that make up the tetrahedron\n",
    "    edges = [\n",
    "        (vertices[0], vertices[1]),\n",
    "        (vertices[0], vertices[2]),\n",
    "        (vertices[0], vertices[3]),\n",
    "        (vertices[1], vertices[2]),\n",
    "        (vertices[1], vertices[3]),\n",
    "        (vertices[2], vertices[3])\n",
    "    ]\n",
    "\n",
    "    # Plot each edge of the tetrahedron\n",
    "    for edge in edges:\n",
    "        x_values = [edge[0][0], edge[1][0]]\n",
    "        y_values = [edge[0][1], edge[1][1]]\n",
    "        z_values = [edge[0][2], edge[1][2]]\n",
    "        ax.plot(x_values, y_values, z_values, color=c)\n",
    "\n",
    "fig = plt.figure()\n",
    "ax = fig.add_subplot(111, projection='3d')\n",
    "\n",
    "# Plot the tetrahedron (edges only)\n",
    "plot_tetrahedron_edges(vertices[indices_grid[0,0,0, 0]], 'blue')\n",
    "plot_tetrahedron_edges(vertices[indices_grid[0,0,0, 1]], 'red')\n",
    "plot_tetrahedron_edges(vertices[indices_grid[0,0,0, 2]], 'green')\n",
    "plot_tetrahedron_edges(vertices[indices_grid[0,0,0, 3]], 'black')\n",
    "plot_tetrahedron_edges(vertices[indices_grid[0,0,0, 4]])\n",
    "plot_tetrahedron_edges(vertices[indices_grid[0,0,0, 5]])\n",
    "\n",
    "plt.show()\n"
   ]
  },
  {
   "cell_type": "code",
   "execution_count": null,
   "metadata": {},
   "outputs": [],
   "source": [
    "# import numpy as np\n",
    "# tets = np.load(f'tets/128_tets.npz')\n",
    "# vertices    = torch.tensor(tets['vertices'], dtype=torch.float32)\n",
    "# indices  = torch.tensor(tets['indices'], dtype=torch.long)"
   ]
  },
  {
   "cell_type": "code",
   "execution_count": null,
   "metadata": {},
   "outputs": [],
   "source": [
    "from dmtet import DMTet\n",
    "\n",
    "# sdf of a circle\n",
    "def sdf_circle(query, radius=0.3):\n",
    "    center = torch.zeros(1, 3, device=query.device)+0.1\n",
    "    dist = torch.norm(query-center, dim=-1)\n",
    "    return dist - radius\n",
    "\n",
    "def sdf_plane(query):\n",
    "\n",
    "    return query[:, 0] - 0.1\n",
    "\n",
    "dmtet = DMTet()\n",
    "\n",
    "sdf = sdf_circle(vertices)\n",
    "verts, faces, uvs, uv_idx = dmtet(vertices.cuda(), sdf.cuda(), indices.cuda())"
   ]
  },
  {
   "cell_type": "code",
   "execution_count": null,
   "metadata": {},
   "outputs": [],
   "source": [
    "import trimesh\n",
    "mesh = trimesh.Trimesh(vertices=verts.cpu(), faces=faces.cpu())\n",
    "mesh.show()"
   ]
  },
  {
   "cell_type": "code",
   "execution_count": null,
   "metadata": {},
   "outputs": [],
   "source": []
  }
 ],
 "metadata": {
  "kernelspec": {
   "display_name": "gaussian_splatting",
   "language": "python",
   "name": "python3"
  },
  "language_info": {
   "codemirror_mode": {
    "name": "ipython",
    "version": 3
   },
   "file_extension": ".py",
   "mimetype": "text/x-python",
   "name": "python",
   "nbconvert_exporter": "python",
   "pygments_lexer": "ipython3",
   "version": "3.8.18"
  }
 },
 "nbformat": 4,
 "nbformat_minor": 2
}
