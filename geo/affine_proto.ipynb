{
 "cells": [
  {
   "cell_type": "code",
   "execution_count": null,
   "metadata": {},
   "outputs": [],
   "source": [
    "import torch\n",
    "import math\n",
    "import matplotlib.pyplot as plt\n",
    "\n",
    "tri1 = torch.tensor([[0, 0], [1, 0], [0.5, math.sqrt(3)/2]])\n",
    "tri2 = torch.tensor([[0, 0], [1, 0], [0.9, 0.6]])\n",
    "\n",
    "plt.figure(figsize=(3, 3))\n",
    "plt.gca().add_patch(plt.Polygon(tri1, edgecolor='black', fill=None))\n",
    "plt.gca().add_patch(plt.Polygon(tri2, edgecolor='blue', fill=None))\n",
    "\n",
    "plt.xlim(-0.1, 1.1)\n",
    "plt.ylim(-0.1, 1.1)\n",
    "plt.gca().set_aspect('equal', adjustable='box')\n",
    "plt.show()"
   ]
  },
  {
   "cell_type": "code",
   "execution_count": null,
   "metadata": {},
   "outputs": [],
   "source": [
    "# compute affine matrix (non-batch)\n",
    "homo_ones = torch.ones((3, 1))\n",
    "E = torch.cat([tri1, homo_ones], dim=1).T\n",
    "A = torch.cat([tri2, homo_ones], dim=1).T\n",
    "M = A @ torch.inverse(E)\n",
    "\n",
    "# affine matrix M: from equilateral to current triangle, ME = A \n",
    "# 1. no shift, no scale/direction change at x-axis, so\n",
    "# M must be [[1, m1], [0, m2]], with m1, m2 to be solved.\n",
    "# 2. assume only the third pair of points E_x/y, A_x/y change,\n",
    "# m1 = (A_x-E_x)/E_y, m2 = A_y/E_y\n",
    "M_2d = torch.tensor([\n",
    "    [1., (tri2[2,0]-tri1[2,0])/tri1[2,1]], \n",
    "    [0., tri2[2,1]/tri1[2,1]],\n",
    "])"
   ]
  },
  {
   "cell_type": "code",
   "execution_count": null,
   "metadata": {},
   "outputs": [],
   "source": [
    "# gaussian settings on a triangle\n",
    "barycentric_coords =  [[2/3, 1/6, 1/6], [1/6, 2/3, 1/6], [1/6, 1/6, 2/3],\n",
    "                       [1/6, 5/12, 5/12], [5/12, 1/6, 5/12], [5/12, 5/12, 1/6]]\n",
    "barycentric_coords =  [[(3-(3**0.5))/6, (3-(3**0.5))/6, (3**0.5)/3], \n",
    "                       [(3-(3**0.5))/6, (3**0.5)/3, (3-(3**0.5))/6], \n",
    "                       [(3**0.5)/3, (3-(3**0.5))/6, (3-(3**0.5))/6]]\n",
    "\n",
    "def barycentric_to_cartesian(triangle, barycentric_coords):\n",
    "    return sum(vertex * weight for vertex, weight in zip(triangle, barycentric_coords))\n",
    "\n",
    "\n",
    "# Group-1: Gaussians on equilateral triangle\n",
    "mean_1_list = [barycentric_to_cartesian(tri1, coords) for coords in barycentric_coords]\n",
    "s = 1 / (4. + 2.*(3**0.5))  # we assume scale=sqrt(eigenvalue)\n",
    "s = 1 / (2. + 2.*(3**0.5))  # we assume scale=sqrt(eigenvalue)\n",
    "conv_1 = torch.diag(torch.tensor([s**2, s**2]))"
   ]
  },
  {
   "cell_type": "code",
   "execution_count": null,
   "metadata": {},
   "outputs": [],
   "source": [
    "# Group-2: Gaussians on transformed triangle\n",
    "mean_2_list = [barycentric_to_cartesian(tri2, coords) for coords in barycentric_coords]\n",
    "\n",
    "# Method-1: do affine on conv matrix\n",
    "conv_2 = M_2d @ (conv_1 @ M_2d.T)\n",
    "\n",
    "# # Method-2: do affine on S\n",
    "# U, S_values, Vt = torch.linalg.svd(M_2d)\n",
    "# s_ = torch.diag(S_values * torch.tensor([s, s]))\n",
    "# conv_2 = U @ s_ @ s_.T @ Vt"
   ]
  },
  {
   "cell_type": "code",
   "execution_count": null,
   "metadata": {},
   "outputs": [],
   "source": [
    "from matplotlib.patches import Ellipse\n",
    "\n",
    "def gaussian_to_ellipse(cov_matrix):\n",
    "    eigenvalues, eigenvectors = torch.linalg.eigh(cov_matrix)\n",
    "    return torch.sqrt(eigenvalues), eigenvectors\n",
    "\n",
    "def create_ellipse(mean, std_devs, rotation, ax, color):\n",
    "    angle = torch.rad2deg(torch.atan2(rotation[1, 0], rotation[0, 0]))\n",
    "    ellipse = Ellipse(xy=mean.numpy(), width=2*std_devs[0].item(), height=2*std_devs[1].item(), angle=angle.item(), edgecolor=color, fc='None', lw=2)\n",
    "    ax.add_patch(ellipse)\n",
    "\n",
    "fig, ax = plt.subplots()\n",
    "\n",
    "std_dev1, rotation1 = gaussian_to_ellipse(conv_1)\n",
    "for mean_1 in mean_1_list:\n",
    "    create_ellipse(mean_1, std_dev1, rotation1, ax, 'black')\n",
    "\n",
    "std_dev2, rotation2 = gaussian_to_ellipse(conv_2)\n",
    "for mean_2 in mean_2_list:\n",
    "    create_ellipse(mean_2, std_dev2, rotation2, ax, 'blue')\n",
    "\n",
    "plt.gca().add_patch(plt.Polygon(tri1, edgecolor='black', fill=None))\n",
    "plt.gca().add_patch(plt.Polygon(tri2, edgecolor='blue', fill=None))\n",
    "\n",
    "plt.xlim(-0.1, 1.1)\n",
    "plt.ylim(-0.1, 1.1)\n",
    "plt.gca().set_aspect('equal', adjustable='box')\n",
    "plt.grid(True)\n",
    "plt.show()\n"
   ]
  },
  {
   "cell_type": "code",
   "execution_count": null,
   "metadata": {},
   "outputs": [],
   "source": []
  }
 ],
 "metadata": {
  "kernelspec": {
   "display_name": "gaussian_splatting",
   "language": "python",
   "name": "python3"
  },
  "language_info": {
   "codemirror_mode": {
    "name": "ipython",
    "version": 3
   },
   "file_extension": ".py",
   "mimetype": "text/x-python",
   "name": "python",
   "nbconvert_exporter": "python",
   "pygments_lexer": "ipython3",
   "version": "3.8.18"
  }
 },
 "nbformat": 4,
 "nbformat_minor": 2
}
