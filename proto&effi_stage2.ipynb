{
 "cells": [
  {
   "cell_type": "code",
   "execution_count": 1,
   "metadata": {},
   "outputs": [],
   "source": [
    "import torch\n",
    "from utils.sh_utils import RGB2SH\n",
    "import geo.mesh_utils as mesh_utils\n",
    "from utils.general_utils import inverse_sigmoid\n",
    "from scene.gaussian_geo_model_mlp_flex import GaussianGeoModel\n",
    "from geo.flexicubes import FlexiCubes\n"
   ]
  },
  {
   "cell_type": "code",
   "execution_count": 2,
   "metadata": {},
   "outputs": [
    {
     "name": "stdout",
     "output_type": "stream",
     "text": [
      "warnning!! using mlp texture\n",
      "Encoder output: 32 dims\n"
     ]
    }
   ],
   "source": [
    "self = GaussianGeoModel(sh_degree=3)\n",
    "debug_dict = torch.load('debug.pth')\n",
    "saved_attr = ['verts', 'max_displacement', 'deform', 'sdf', 'indices', 'grid_res', 'per_cube_weights', 'bc_coords', 'rad_base', 'spatial_lr_scale', 'max_sh_degree',]\n",
    "for k in saved_attr:\n",
    "    self.__setattr__(k, debug_dict[k])\n",
    "self.create_from_pcd(None, debug_dict['spatial_lr_scale'])\n",
    "self.mlp_texture.load_state_dict(debug_dict['mlp_texture'])\n",
    "self.marching_geo    = FlexiCubes()"
   ]
  },
  {
   "cell_type": "code",
   "execution_count": 3,
   "metadata": {},
   "outputs": [],
   "source": [
    "# from torch.profiler import profile, record_function, ProfilerActivity\n",
    "\n",
    "# with profile(activities=[ProfilerActivity.CUDA], with_stack=True) as prof:\n",
    "#     with record_function(\"getMesh\"):\n",
    "#         pass\n",
    "starter, ender = torch.cuda.Event(enable_timing=True), torch.cuda.Event(enable_timing=True)\n",
    "from contextlib import contextmanager\n",
    "\n",
    "@contextmanager\n",
    "def count_time(name):\n",
    "    starter.record()\n",
    "    yield\n",
    "    ender.record(); torch.cuda.synchronize()\n",
    "    print(f\"{name}:\\t{starter.elapsed_time(ender):>6.2f}ms\")\n"
   ]
  },
  {
   "cell_type": "code",
   "execution_count": 5,
   "metadata": {},
   "outputs": [
    {
     "name": "stdout",
     "output_type": "stream",
     "text": [
      "Get_Mesh:\t  8.29ms\n",
      "Mesh_to_GS:\t  1.25ms\n",
      "compute_Cov3D-0:\t  0.28ms\n",
      "compute_Cov3D-3:\t  0.21ms\n",
      "SH_query:\t  7.44ms\n",
      "Post_Process:\t  1.19ms\n"
     ]
    }
   ],
   "source": [
    "device = 'cuda'\n",
    "\n",
    "with count_time('Get_Mesh'):\n",
    "    verts, faces = self.getMesh()\n",
    "\n",
    "with count_time('Mesh_to_GS'):\n",
    "    # triangle space definition & data shape\n",
    "    face_normals = mesh_utils.face_normals(verts, faces, unit=True)\n",
    "    face_x = torch.nn.functional.normalize(verts[faces[:, 1]] - verts[faces[:, 0]])\n",
    "    face_y = torch.nn.functional.normalize(torch.cross(face_normals, face_x, dim=-1))\n",
    "    self.rot_t2w = torch.stack([face_x, face_y, face_normals], dim=2)\n",
    "    n_face = faces.shape[0]\n",
    "    N_gs_per_face = self.bc_coords.shape[0]\n",
    "    N_gs = n_face * N_gs_per_face\n",
    "\n",
    "    # gaussian means\n",
    "    face_vert = verts[faces]\n",
    "    gs_xyz = torch.matmul(\n",
    "        self.bc_coords.view(1, -1, 3), face_vert)  # [1, n_inner_gs, 3] @ [n_triangle, 3, 3]\n",
    "    gs_xyz = gs_xyz.view(-1, 3)  # [n_triangle*n_inner_gs, 3]\n",
    "\n",
    "with count_time('compute_Cov3D-0'):\n",
    "    # gaussian covariance (triangle space)\n",
    "    v1v2_xlen = torch.norm(face_vert[:, 1, :] - face_vert[:, 0, :], dim=-1)\n",
    "    v1v2_xlen = v1v2_xlen.clamp_min(1e-10)  # there are `point` triangles\n",
    "    v1v3 = face_vert[:, 2, :] - face_vert[:, 0, :]\n",
    "\n",
    "    # affine matrix M: from equilateral to current triangle, ME = A \n",
    "    # 1. no shift, no scale/direction change at x-axis, so\n",
    "    # M must be [[1, m1], [0, m2]], with m1, m2 to be solved.\n",
    "    # 2. assume only the third pair of points E_x/y, A_x/y change,\n",
    "    # m1 = (A_x-E_x)/E_y, m2 = A_y/E_y\n",
    "    A = torch.stack([(v1v3*face_x).sum(-1), (v1v3*face_y).sum(-1)], dim=-1)\n",
    "    E = torch.stack([v1v2_xlen/2., v1v2_xlen/2. * (3**0.5)], dim=-1)\n",
    "    M_2d = torch.zeros((n_face, 2, 2), device=device)\n",
    "    M_2d[:, 0, 0] = 1.\n",
    "    M_2d[:, 0, 1] = (A[:, 0] - E[:, 0]) / E[:, 1]\n",
    "    M_2d[:, 1, 1] = A[:, 1] / E[:, 1]\n",
    "\n",
    "with count_time('compute_Cov3D-3'):\n",
    "    # L=M R_init S, 2D triangle space, here R_init=I\n",
    "    s_scalar = (v1v2_xlen * self.rad_base)  # s_scalar is std-deviation\n",
    "    L = M_2d * s_scalar.view(-1, 1, 1)  # [n_face, 2, 2] * [n_tri, 1, 1]\n",
    "\n",
    "    cov3D_L = torch.zeros((n_face, N_gs_per_face, 3, 3), device=device)\n",
    "    cov3D_L[:, :, :2, :2] = L.view(n_face, 1, 2, 2)\n",
    "    cov3D_L[:, :, 2, 2] = self.spatial_lr_scale * 1e-6\n",
    "    cov3D_L = cov3D_L.view(-1, 3, 3)\n",
    "\n",
    "with count_time(\"SH_query\"):\n",
    "    # gaussian colors\n",
    "    features = torch.zeros((N_gs, 3, (self.max_sh_degree + 1) ** 2), device=device)\n",
    "    features[:, :3, 0 ] = RGB2SH(self.mlp_texture.sample(gs_xyz))\n",
    "    # gaussian opacity (triangle space)\n",
    "    opacities = inverse_sigmoid(0.9999 * torch.ones((N_gs, 1), device=device))\n",
    "with count_time(\"Post_Process\"):\n",
    "    # -------------------------------------------------- #\n",
    "    # construct parameters and config optimizer\n",
    "    # -------------------------------------------------- #\n",
    "    self._xyz = gs_xyz\n",
    "    self._features_dc = features[:,:,0:1].transpose(1, 2).contiguous()  # nn.Parameter(features[:,:,0:1].transpose(1, 2).contiguous().requires_grad_(True))\n",
    "    self._features_rest = features[:,:,1:].transpose(1, 2).contiguous()  # nn.Parameter(features[:,:,1:].transpose(1, 2).contiguous().requires_grad_(True))\n",
    "    self._scaling = None  # nn.Parameter(scale2D.requires_grad_(True))\n",
    "    self._rotation = None  # nn.Parameter(rots2D.requires_grad_(True))\n",
    "    self.cov3D_L = cov3D_L\n",
    "    self._opacity = opacities  # nn.Parameter(opacities.requires_grad_(True))\n",
    "    self.max_radii2D = torch.zeros((gs_xyz.shape[0]), device=device)\n"
   ]
  },
  {
   "cell_type": "code",
   "execution_count": 20,
   "metadata": {},
   "outputs": [
    {
     "name": "stdout",
     "output_type": "stream",
     "text": [
      "before-render:\t  1.25ms\n"
     ]
    }
   ],
   "source": [
    "from utils.general_utils import strip_symmetric\n",
    "\n",
    "with count_time(\"before-render\"):\n",
    "    n_triangle = self.rot_t2w.shape[0]\n",
    "    n_inner_gs = self.bc_coords.shape[0]\n",
    "\n",
    "    L = self.cov3D_L.view(n_triangle, n_inner_gs, 3, 3)[:, 0, :, :].view(n_triangle, 1, 3, 3)\n",
    "\n",
    "    # world space R\n",
    "    R_t2w = self.rot_t2w.view(n_triangle, 1, 3, 3)\n",
    "    L = torch.matmul(R_t2w, L).view(-1, 3, 3)  # [n_triangle*n_inner_gs,3,3]\n",
    "\n",
    "    actual_covariance = L @ L.transpose(1, 2)\n",
    "    symm = strip_symmetric(actual_covariance)\n",
    "\n",
    "    symm.view(n_triangle, 1, 6).expand(-1, n_inner_gs, 6).contiguous()\n"
   ]
  },
  {
   "cell_type": "code",
   "execution_count": 14,
   "metadata": {},
   "outputs": [
    {
     "data": {
      "text/plain": [
       "torch.Size([591168, 6])"
      ]
     },
     "execution_count": 14,
     "metadata": {},
     "output_type": "execute_result"
    }
   ],
   "source": [
    "symm.shape"
   ]
  },
  {
   "cell_type": "code",
   "execution_count": 8,
   "metadata": {},
   "outputs": [
    {
     "name": "stdout",
     "output_type": "stream",
     "text": [
      "tensor(0.)\n"
     ]
    }
   ],
   "source": [
    "from utils.sh_utils import eval_sh\n",
    "import torch\n",
    "\n",
    "deg = 3\n",
    "sh = torch.zeros((400, 400, 3, 16))\n",
    "dirs = torch.zeros((400, 400, 3))\n",
    "result = eval_sh(deg, sh, dirs)\n",
    "print(result.min())"
   ]
  }
 ],
 "metadata": {
  "kernelspec": {
   "display_name": "gaussian_splatting",
   "language": "python",
   "name": "python3"
  },
  "language_info": {
   "codemirror_mode": {
    "name": "ipython",
    "version": 3
   },
   "file_extension": ".py",
   "mimetype": "text/x-python",
   "name": "python",
   "nbconvert_exporter": "python",
   "pygments_lexer": "ipython3",
   "version": "3.8.18"
  }
 },
 "nbformat": 4,
 "nbformat_minor": 2
}
