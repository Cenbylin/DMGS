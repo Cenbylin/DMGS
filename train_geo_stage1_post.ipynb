{
 "cells": [
  {
   "cell_type": "markdown",
   "metadata": {},
   "source": [
    "## Synthetic Dataset"
   ]
  },
  {
   "cell_type": "code",
   "execution_count": null,
   "metadata": {},
   "outputs": [],
   "source": [
    "alpha_cfg = {\n",
    "    'hotdog': (0.05, 5_000),\n",
    "    'ficus': (0.05, 1_000),\n",
    "    'chair': (0.1, 5_000),\n",
    "    'ship': (0.05, 10_000),\n",
    "    'mic': (0.1, 5_000),\n",
    "    'materials': (0.06, 2_000),\n",
    "    'drums': (0.05, 10_000),\n",
    "    'lego': (0.05, 10_000),\n",
    "}\n",
    "shape = 'lego'\n",
    "alpha, wt_res = alpha_cfg[shape]"
   ]
  },
  {
   "cell_type": "code",
   "execution_count": null,
   "metadata": {},
   "outputs": [],
   "source": [
    "import torch\n",
    "import trimesh\n",
    "import open3d as o3d\n",
    "import numpy as np\n",
    "import point_cloud_utils as pcu\n",
    "(model_params, _) = torch.load(f\"output/synthetic_s1/{shape}/chkpnt10000.pth\")\n",
    "(active_sh_degree, xyz, _features_dc, _features_rest, \n",
    "_scaling, _rotation, opacity, max_radii2D, \n",
    "xyz_gradient_accum, denom,opt_dict, spatial_lr_scale) = model_params\n",
    "\n",
    "fg_pcd = o3d.geometry.PointCloud()\n",
    "fg_pcd.points = o3d.utility.Vector3dVector(xyz.detach().double().cpu().numpy())\n",
    "o3d_mesh = o3d.geometry.TriangleMesh.create_from_point_cloud_alpha_shape(fg_pcd, alpha)\n",
    "vertices = np.asarray(o3d_mesh.vertices)\n",
    "triangles = np.asarray(o3d_mesh.triangles)\n",
    "\n",
    "trimesh.Trimesh(vertices, triangles).show()"
   ]
  },
  {
   "cell_type": "code",
   "execution_count": null,
   "metadata": {},
   "outputs": [],
   "source": [
    "vw, fw = pcu.make_mesh_watertight(vertices, triangles, wt_res)\n",
    "mesh = trimesh.Trimesh(vw, fw)\n",
    "mesh.show()"
   ]
  },
  {
   "cell_type": "code",
   "execution_count": null,
   "metadata": {},
   "outputs": [],
   "source": [
    "# save\n",
    "path = f\"output/synthetic_s1/{shape}/coarse_mesh.obj\"\n",
    "with open(path, 'w') as file:\n",
    "    mesh.export(file_obj=file, file_type='obj')"
   ]
  },
  {
   "cell_type": "markdown",
   "metadata": {},
   "source": [
    "## Self-Dyn dataset"
   ]
  },
  {
   "cell_type": "code",
   "execution_count": null,
   "metadata": {},
   "outputs": [],
   "source": [
    "alpha_cfg = {\n",
    "    'lego_init': (0.05, 10_000),\n",
    "}\n",
    "shape = 'lego_init'\n",
    "alpha, wt_res = alpha_cfg[shape]\n",
    "\n",
    "\n",
    "import torch\n",
    "import trimesh\n",
    "import open3d as o3d\n",
    "import numpy as np\n",
    "import point_cloud_utils as pcu\n",
    "\n",
    "(model_params, _) = torch.load(f\"output_dyn/ours_s1/{shape}/chkpnt10000.pth\")\n",
    "(active_sh_degree, xyz, _features_dc, _features_rest, \n",
    "_scaling, _rotation, opacity, max_radii2D, \n",
    "xyz_gradient_accum, denom,opt_dict, spatial_lr_scale) = model_params\n",
    "\n",
    "fg_pcd = o3d.geometry.PointCloud()\n",
    "fg_pcd.points = o3d.utility.Vector3dVector(xyz.detach().double().cpu().numpy())\n",
    "o3d_mesh = o3d.geometry.TriangleMesh.create_from_point_cloud_alpha_shape(fg_pcd, alpha)\n",
    "vertices = np.asarray(o3d_mesh.vertices)\n",
    "triangles = np.asarray(o3d_mesh.triangles)\n",
    "\n",
    "trimesh.Trimesh(vertices, triangles).show()"
   ]
  },
  {
   "cell_type": "code",
   "execution_count": null,
   "metadata": {},
   "outputs": [],
   "source": [
    "vw, fw = pcu.make_mesh_watertight(vertices, triangles, wt_res)\n",
    "mesh = trimesh.Trimesh(vw, fw)\n",
    "mesh.show()"
   ]
  },
  {
   "cell_type": "code",
   "execution_count": null,
   "metadata": {},
   "outputs": [],
   "source": [
    "# save\n",
    "path = f\"output_dyn/ours_s1/{shape}/coarse_mesh.obj\"\n",
    "with open(path, 'w') as file:\n",
    "    mesh.export(file_obj=file, file_type='obj')"
   ]
  },
  {
   "cell_type": "markdown",
   "metadata": {},
   "source": [
    "## Mipnerf360 Dataset"
   ]
  },
  {
   "cell_type": "code",
   "execution_count": null,
   "metadata": {},
   "outputs": [],
   "source": [
    "alpha_cfg = {\n",
    "    'room': (0.1, 50_000, 1.8),\n",
    "    'kitchen': (0.1, 80_000, 5.0),\n",
    "    'bicycle': (0.1, 80_000, 4.0),\n",
    "    'garden': (0.1, 80_000, 4.0),\n",
    "    'stump': (0.1, 50_000, 4.0),\n",
    "    'counter': (0.1, 50_000, 4.0),\n",
    "    'bonsai': (0.1, 50_000, 4.0),\n",
    "}\n",
    "min_max_cfg = {\n",
    "    'room': [[-4.3, -4.5, -11.8], [4.7, 8.5, 7.0],\n",
    "             [-4.3, -4.5, -11.8], [4.7, 8.5, 7.0]],  # fg, bg the same.\n",
    "    'kitchen': [[[-4.2, -3., -4.3], [5., 5., 5.]],\n",
    "                [[-18.5, -12, -18], [18.5, 15, 17]]],\n",
    "    # 'bicycle': [[[-4, -0.3, -4], [3.5, 3.3, 4]], [[-19., -15, -19.], [19., 6, 19.]]],\n",
    "    'bicycle': [[[-0.9, -0.3, -1.5], [2.0, 2.5, 2.5]],\n",
    "                [[-19., -15, -19.], [19., 6, 19.]]],\n",
    "    'garden': [[[-4.5, -0.1, -3.5], [3.5, 4, 5]],\n",
    "               [[-13., -9, -15.], [20, 9, 15.]]],\n",
    "    'stump': [[[-4, -1., -1.], [4, 4, 4]],\n",
    "              [[-19.5, -19.5, -19.5], [19.5, 19.5, 19.5]]],\n",
    "    'counter': [[[-3, -1., -5], [5., 5, 5]],\n",
    "                [[-12, -8, -10], [13, 13, 17]]],\n",
    "    'bonsai': [[[-2, 0, 0], [2, 5., 5.]],\n",
    "               [[-20, -13, -13], [15, 17, 20]]]\n",
    "}\n",
    "shape = 'bicycle'\n",
    "alpha, wt_res, scale_rate = alpha_cfg[shape]\n",
    "fg_bg_min_max_raw = min_max_cfg[shape]"
   ]
  },
  {
   "cell_type": "code",
   "execution_count": null,
   "metadata": {},
   "outputs": [],
   "source": [
    "import torch\n",
    "import trimesh\n",
    "import open3d as o3d\n",
    "import numpy as np\n",
    "import point_cloud_utils as pcu\n",
    "(model_params, _) = torch.load(f\"output/mipnerf360_s1/{shape}/chkpnt10000.pth\")\n",
    "(active_sh_degree, xyz, _features_dc, _features_rest, \n",
    "_scaling, _rotation, opacity, max_radii2D, \n",
    "xyz_gradient_accum, denom,opt_dict, spatial_lr_scale) = model_params\n",
    "device = xyz.device\n",
    "print(spatial_lr_scale)\n",
    "\n",
    "if shape == 'stump':  # TODO: apply to all shapes?\n",
    "    xyz = xyz[torch.sigmoid(opacity[:, 0])>0.3]\n",
    "\n",
    "# ref\n",
    "scene_scale_radius = scale_rate * spatial_lr_scale\n",
    "scene_scale = scene_scale_radius*2\n",
    "xyz_min = torch.tensor([[-0.5, -0.5, -0.5]], device=device) * scene_scale\n",
    "xyz_max = torch.tensor([[0.5, 0.5, 0.5]], device=device) * scene_scale\n",
    "\n",
    "# our own\n",
    "fg_bg_min_max = torch.tensor(fg_bg_min_max_raw, device=device).view(2, 2, 3)\n",
    "xyz_min, xyz_max = fg_bg_min_max[1]  # bg\n",
    "\n",
    "# filter xyz\n",
    "inbox_mask = (xyz_min<xyz).all(dim=1) & (xyz<xyz_max).all(dim=1)\n",
    "xyz = xyz[inbox_mask]\n",
    "print(xyz_max)"
   ]
  },
  {
   "cell_type": "code",
   "execution_count": null,
   "metadata": {},
   "outputs": [],
   "source": [
    "pcd = o3d.geometry.PointCloud()\n",
    "pcd.points = o3d.utility.Vector3dVector(xyz.detach().double().cpu().numpy())\n",
    "# cl, ind = pcd.remove_statistical_outlier(nb_neighbors=20, std_ratio=20.)\n",
    "# pcd = pcd.select_by_index(ind)\n",
    "o3d_mesh = o3d.geometry.TriangleMesh.create_from_point_cloud_alpha_shape(pcd, alpha)\n",
    "vertices = np.asarray(o3d_mesh.vertices)\n",
    "triangles = np.asarray(o3d_mesh.triangles)\n",
    "\n",
    "# trimesh.Trimesh(vertices, triangles).show()"
   ]
  },
  {
   "cell_type": "code",
   "execution_count": null,
   "metadata": {},
   "outputs": [],
   "source": [
    "print('start')\n",
    "vw, fw = pcu.make_mesh_watertight(vertices, triangles, wt_res)\n",
    "mesh = trimesh.Trimesh(vw, fw)\n",
    "# mesh.show()"
   ]
  },
  {
   "cell_type": "code",
   "execution_count": null,
   "metadata": {},
   "outputs": [],
   "source": [
    "scene = trimesh.Scene()\n",
    "scene.add_geometry(mesh)\n",
    "\n",
    "def get_box(s_min, s_max):\n",
    "    draw_verts = np.array([\n",
    "        [s_min[0], s_min[1], s_min[2]], [s_max[0], s_min[1], s_min[2]], \n",
    "        [s_min[0], s_max[1], s_min[2]], [s_max[0], s_max[1], s_min[2]], \n",
    "        [s_min[0], s_min[1], s_max[2]], [s_max[0], s_min[1], s_max[2]], \n",
    "        [s_min[0], s_max[1], s_max[2]], [s_max[0], s_max[1], s_max[2]], \n",
    "    ])\n",
    "    el = trimesh.path.entities.Line([0,1,0,2,3,1,5,7,3,2,6,7,5,4,6,4,0])\n",
    "    path3d = trimesh.path.Path3D(entities=[el], vertices=draw_verts)\n",
    "    path3d.colors = [[255, 0, 0, 255]]  # RGBA\n",
    "    return path3d\n",
    "fg_bg_min_max = fg_bg_min_max.to('cpu')\n",
    "scene.add_geometry(get_box(fg_bg_min_max[0,0], fg_bg_min_max[0,1]))  # fg\n",
    "scene.add_geometry(get_box(fg_bg_min_max[1,0], fg_bg_min_max[1,1]))  # bg\n",
    "axis = trimesh.creation.axis(origin_size=1.0, origin_color=[0, 0, 255, 255])  # Blue origin\n",
    "scene.add_geometry(axis)\n",
    "\n",
    "scene.show()"
   ]
  },
  {
   "cell_type": "code",
   "execution_count": null,
   "metadata": {},
   "outputs": [],
   "source": [
    "# save\n",
    "path = f\"output/mipnerf360_s1/{shape}/coarse_mesh.obj\"\n",
    "with open(path, 'w') as file:\n",
    "    mesh.export(file_obj=file, file_type='obj')"
   ]
  },
  {
   "cell_type": "code",
   "execution_count": null,
   "metadata": {},
   "outputs": [],
   "source": [
    "import trimesh\n",
    "trimesh.load_mesh(f\"output/mipnerf360_s1/kitchen/coarse_mesh.obj\")"
   ]
  }
 ],
 "metadata": {
  "kernelspec": {
   "display_name": "gaussian_splatting",
   "language": "python",
   "name": "python3"
  },
  "language_info": {
   "codemirror_mode": {
    "name": "ipython",
    "version": 3
   },
   "file_extension": ".py",
   "mimetype": "text/x-python",
   "name": "python",
   "nbconvert_exporter": "python",
   "pygments_lexer": "ipython3",
   "version": "3.8.18"
  }
 },
 "nbformat": 4,
 "nbformat_minor": 2
}
