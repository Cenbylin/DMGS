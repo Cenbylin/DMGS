{
 "cells": [
  {
   "cell_type": "code",
   "execution_count": null,
   "metadata": {},
   "outputs": [],
   "source": [
    "# stage-2 lego\n",
    "\n",
    "import itertools\n",
    "\n",
    "base_cmd = 'CUDA_VISIBLE_DEVICES=0 python -u train_geo_stage2.py '\n",
    "\n",
    "hyper_params = {\n",
    "    \"-s\": [\"data/nerf_synthetic/lego\"],\n",
    "    \"--start_checkpoint\": [\"output/synthetic_s1/lego/chkpnt10000.pth\"],\n",
    "\n",
    "    \"--sdf_lr\": [0.002, 0.001, 0.0005],\n",
    "    \"--deform_lr\": [0.06, 0.04, 0.02],\n",
    "    \"--cube_weight_lr\": [0.02, 0.01, 0.005],\n",
    "    \"--texture_lr\": [0.01, 0.005, 0.001],\n",
    "    \"--lambda_sdf\": [0.4, 0.2, 0.1],\n",
    "    \"--lambda_flex\": [0.6, 0.4, 0.2],\n",
    "}\n",
    "\n",
    "cmds = []\n",
    "\n",
    "param_names = list(hyper_params.keys())\n",
    "for id, params in enumerate(\n",
    "    itertools.product(*tuple(hyper_params.values()))):\n",
    "    param_str = ''\n",
    "    for name, value in zip(param_names, params):\n",
    "        param_str += f\" {name} {value}\"\n",
    "\n",
    "    save_path = f\" --model_path output_auto/lego_stage2/exp_{id:0>3}\"\n",
    "    curr_cmd = base_cmd + save_path + param_str\n",
    "\n",
    "    cmds.append(curr_cmd)\n",
    "\n",
    "with open('run_auto.sh', \"w\") as f:\n",
    "    f.writelines('\\n'.join(cmds))"
   ]
  },
  {
   "cell_type": "code",
   "execution_count": null,
   "metadata": {},
   "outputs": [],
   "source": []
  },
  {
   "cell_type": "code",
   "execution_count": null,
   "metadata": {},
   "outputs": [],
   "source": [
    "# stage-2 colmap-kitchen\n",
    "\n",
    "import itertools\n",
    "\n",
    "base_cmd = 'CUDA_VISIBLE_DEVICES=1 python -u train_geo_stage2_colmap.py '\n",
    "\n",
    "hyper_params = {\n",
    "    \"-s\": [\"data/mip-nerf360/kitchen\"],\n",
    "    \"--start_checkpoint\": [\"output/colmap-geo_stage1/chkpnt10000.pth\"],\n",
    "\n",
    "    \"--sdf_lr_bg\": [0.01, 0.005, 0.001],\n",
    "    \"--deform_lr_bg\": [0.01, 0.005, 0.002],\n",
    "    \"--cube_weight_lr_bg\": [0.005, 0.001, 0.0002],\n",
    "}\n",
    "\n",
    "cmds = []\n",
    "\n",
    "param_names = list(hyper_params.keys())\n",
    "for id, params in enumerate(\n",
    "    itertools.product(*tuple(hyper_params.values()))):\n",
    "    param_str = ''\n",
    "    for name, value in zip(param_names, params):\n",
    "        param_str += f\" {name} {value}\"\n",
    "\n",
    "    save_path = f\" --model_path output_auto/kitchen_stage2/exp_{id:0>3}\"\n",
    "    curr_cmd = base_cmd + save_path + param_str\n",
    "\n",
    "    cmds.append(curr_cmd)\n",
    "\n",
    "with open('run_auto_colmap.sh', \"w\") as f:\n",
    "    f.writelines('\\n'.join(cmds))"
   ]
  },
  {
   "cell_type": "code",
   "execution_count": null,
   "metadata": {},
   "outputs": [],
   "source": [
    "import itertools\n",
    "\n",
    "tmp_hyper = {\n",
    "    \"--sdf_lr\": [0.006, 0.004],\n",
    "    \"--deform_lr\": [0.06, 0.04],\n",
    "}\n",
    "param_names = list(tmp_hyper.keys())\n",
    "\n",
    "for id, params in enumerate(\n",
    "    itertools.product(*tuple(tmp_hyper.values()))):\n",
    "    param_str = ''\n",
    "    for name, value in zip(param_names, params):\n",
    "        param_str += f\" {name} {value}\"\n",
    "    print(f\"{id} ---- {param_str}\")"
   ]
  },
  {
   "cell_type": "code",
   "execution_count": null,
   "metadata": {},
   "outputs": [],
   "source": [
    "import itertools\n",
    "\n",
    "tmp_hyper = {\n",
    "    \"c2f_steps\": ['四级', \n",
    "                  '五级'],\n",
    "\n",
    "    \"sdf_lr\": [0.005, 0.003],\n",
    "    \"final_lr_rate\": [1.0, 0.5, 0.3],\n",
    "\n",
    "}\n",
    "param_names = list(tmp_hyper.keys())\n",
    "\n",
    "for id, params in enumerate(\n",
    "    itertools.product(*tuple(tmp_hyper.values()))):\n",
    "    param_str = ''\n",
    "    for name, value in zip(param_names, params):\n",
    "        param_str += f\" {name} {value}\"\n",
    "    print(f\"-{param_str}\")"
   ]
  },
  {
   "cell_type": "code",
   "execution_count": 4,
   "metadata": {},
   "outputs": [
    {
     "name": "stdout",
     "output_type": "stream",
     "text": [
      "0- sdf_lr 0.007 sdf_lr_bg 0.007 final_lr_rate 0.5\n",
      "1- sdf_lr 0.007 sdf_lr_bg 0.007 final_lr_rate 0.1\n",
      "2- sdf_lr 0.007 sdf_lr_bg 0.007 final_lr_rate 0.05\n",
      "3- sdf_lr 0.007 sdf_lr_bg 0.005 final_lr_rate 0.5\n",
      "4- sdf_lr 0.007 sdf_lr_bg 0.005 final_lr_rate 0.1\n",
      "5- sdf_lr 0.007 sdf_lr_bg 0.005 final_lr_rate 0.05\n",
      "6- sdf_lr 0.005 sdf_lr_bg 0.007 final_lr_rate 0.5\n",
      "7- sdf_lr 0.005 sdf_lr_bg 0.007 final_lr_rate 0.1\n",
      "8- sdf_lr 0.005 sdf_lr_bg 0.007 final_lr_rate 0.05\n",
      "9- sdf_lr 0.005 sdf_lr_bg 0.005 final_lr_rate 0.5\n",
      "10- sdf_lr 0.005 sdf_lr_bg 0.005 final_lr_rate 0.1\n",
      "11- sdf_lr 0.005 sdf_lr_bg 0.005 final_lr_rate 0.05\n"
     ]
    }
   ],
   "source": [
    "import itertools\n",
    "\n",
    "tmp_hyper = {\n",
    "    \"sdf_lr\": [0.007, 0.005],\n",
    "    \"sdf_lr_bg\": [0.007, 0.005],\n",
    "    \"final_lr_rate\": [0.5, 0.1, 0.05],\n",
    "}\n",
    "param_names = list(tmp_hyper.keys())\n",
    "\n",
    "for id, params in enumerate(\n",
    "    itertools.product(*tuple(tmp_hyper.values()))):\n",
    "    param_str = ''\n",
    "    for name, value in zip(param_names, params):\n",
    "        param_str += f\" {name} {value}\"\n",
    "    print(f\"{id}-{param_str}\")"
   ]
  }
 ],
 "metadata": {
  "kernelspec": {
   "display_name": "gaussian_splatting",
   "language": "python",
   "name": "python3"
  },
  "language_info": {
   "codemirror_mode": {
    "name": "ipython",
    "version": 3
   },
   "file_extension": ".py",
   "mimetype": "text/x-python",
   "name": "python",
   "nbconvert_exporter": "python",
   "pygments_lexer": "ipython3",
   "version": "3.8.18"
  }
 },
 "nbformat": 4,
 "nbformat_minor": 2
}
