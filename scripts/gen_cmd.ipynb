{
 "cells": [
  {
   "cell_type": "code",
   "execution_count": null,
   "metadata": {},
   "outputs": [],
   "source": [
    "import itertools\n",
    "\n",
    "hyper_params = {\n",
    "    'warm_up_iter': [0],\n",
    "    # learning rate\n",
    "    'sdf_lr': [0.005],\n",
    "    'deform_lr': [0.03, 0.02, 0.01],\n",
    "    'sdf_lr_bg': [0.002],\n",
    "    'deform_lr_bg': [0.03, 0.02, 0.01],\n",
    "    'texture_lr': [0.01],\n",
    "    'scale_factor_lr': [0.002, 0.001, 0.0005],\n",
    "    # model\n",
    "    'lambda_sdf': [\"[1.8, 0.3]\"],\n",
    "    'lambda_flex': [\"[1.8, 0.3]\"],\n",
    "}\n",
    "\n",
    "# colored console output\n",
    "green = lambda x: '\\033[92m' + x + '\\033[0m'\n",
    "blue = lambda x: '\\033[94m' + x + '\\033[0m'\n",
    "\n",
    "\n",
    "param_names = list(hyper_params.keys())\n",
    "for id, params in enumerate(\n",
    "    itertools.product(*tuple(hyper_params.values()))):\n",
    "    \n",
    "    expname = f\"e{id:0>3}\"\n",
    "    desc_str = expname\n",
    "    for name, value in zip(param_names, params):\n",
    "        desc_str += f\"-{name}({str(value)})\"\n",
    "    print(desc_str)"
   ]
  },
  {
   "cell_type": "code",
   "execution_count": null,
   "metadata": {},
   "outputs": [],
   "source": [
    "e020-warm_up_iter(0)-sdf_lr(0.005)-deform_lr(0.01)-sdf_lr_bg(0.002)-deform_lr_bg(0.03)-texture_lr(0.01)-scale_factor_lr(0.0005)-lambda_sdf([1.8, 0.3])-lambda_flex([1.8, 0.3])\n",
    "e008-warm_up_iter(0)-sdf_lr(0.005)-deform_lr(0.03)-sdf_lr_bg(0.002)-deform_lr_bg(0.01)-texture_lr(0.01)-scale_factor_lr(0.0005)-lambda_sdf([1.8, 0.3])-lambda_flex([1.8, 0.3])\n",
    "e000-warm_up_iter(0)-sdf_lr(0.005)-deform_lr(0.03)-sdf_lr_bg(0.002)-deform_lr_bg(0.03)-texture_lr(0.01)-scale_factor_lr(0.002)-lambda_sdf([1.8, 0.3])-lambda_flex([1.8, 0.3])\n",
    "\n"
   ]
  },
  {
   "cell_type": "code",
   "execution_count": null,
   "metadata": {},
   "outputs": [],
   "source": []
  }
 ],
 "metadata": {
  "kernelspec": {
   "display_name": "gaussian_splatting",
   "language": "python",
   "name": "python3"
  },
  "language_info": {
   "codemirror_mode": {
    "name": "ipython",
    "version": 3
   },
   "file_extension": ".py",
   "mimetype": "text/x-python",
   "name": "python",
   "nbconvert_exporter": "python",
   "pygments_lexer": "ipython3",
   "version": "3.8.18"
  }
 },
 "nbformat": 4,
 "nbformat_minor": 2
}
