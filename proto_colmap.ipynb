{
 "cells": [
  {
   "cell_type": "code",
   "execution_count": null,
   "metadata": {},
   "outputs": [],
   "source": [
    "import torch\n",
    "(model_params, _) = torch.load(\"output/colmap-geo_stage1/chkpnt10000.pth\")\n",
    "(active_sh_degree, xyz, _features_dc, _features_rest, \n",
    "_scaling, _rotation, opacity, max_radii2D, \n",
    "xyz_gradient_accum, denom,opt_dict, spatial_lr_scale) = model_params"
   ]
  },
  {
   "cell_type": "code",
   "execution_count": null,
   "metadata": {},
   "outputs": [],
   "source": [
    "from utils.general_utils import build_scaling_rotation\n",
    "scaling = torch.exp(_scaling)\n",
    "L = build_scaling_rotation(1 * scaling, _rotation)\n",
    "covs3D = L @ L.transpose(1, 2)\n",
    "# important: can help if the matrix is near-singular\n",
    "covs3D += (1e-8 * torch.eye(3, device=scaling.device)).view(1, 3, 3)"
   ]
  },
  {
   "cell_type": "code",
   "execution_count": null,
   "metadata": {},
   "outputs": [],
   "source": [
    "import open3d as o3d"
   ]
  },
  {
   "cell_type": "code",
   "execution_count": null,
   "metadata": {},
   "outputs": [],
   "source": [
    "from scene.gaussian_geo_model_mlp_flex_colmap import GaussianGeoModel\n",
    "import mcubes\n",
    "device = 'cuda'\n",
    "coarse_res = 160\n",
    "scene_scale_radius = 2. * 4.965\n",
    "scene_scale = scene_scale_radius*2\n",
    "xyz_min = torch.tensor([[-0.5, -0.5, -0.5]], device=device) * scene_scale\n",
    "xyz_max = torch.tensor([[0.5, 0.5, 0.5]], device=device) * scene_scale\n",
    "# filter xyz\n",
    "inbox_mask = (xyz_min<xyz).all(dim=1) & (xyz<xyz_max).all(dim=1)\n",
    "xyz = xyz[inbox_mask]\n",
    "covs3D = covs3D[inbox_mask]\n",
    "opacity = opacity[inbox_mask]\n",
    "scaling = scaling[inbox_mask]\n",
    "\n",
    "density_grid = GaussianGeoModel.project_gs_grid(coarse_res, xyz, covs3D, opacity, scaling, xyz_min, xyz_max)\n",
    "mc_grid = density_grid.squeeze()\n",
    "vertices, triangles = mcubes.marching_cubes(mc_grid.cpu().numpy(), 0.3)\n",
    "vertices = (vertices / (coarse_res - 1.0) - 0.5) * scene_scale  # [0,(res-1)] to [xyz_min, xyz_max]"
   ]
  },
  {
   "cell_type": "code",
   "execution_count": null,
   "metadata": {},
   "outputs": [],
   "source": [
    "import trimesh\n",
    "mesh = trimesh.Trimesh(vertices=vertices, faces=triangles)\n",
    "mesh.show()"
   ]
  },
  {
   "cell_type": "code",
   "execution_count": null,
   "metadata": {},
   "outputs": [],
   "source": [
    "import point_cloud_utils as pcu\n",
    "\n",
    "vw, fw = pcu.make_mesh_watertight(vertices, triangles, 100_000)\n",
    "\n",
    "import trimesh\n",
    "mesh = trimesh.Trimesh(vertices=vw, faces=fw)\n",
    "mesh.show()"
   ]
  },
  {
   "cell_type": "code",
   "execution_count": null,
   "metadata": {},
   "outputs": [],
   "source": [
    "# post proc\n",
    "import open3d as o3d\n",
    "import numpy as np\n",
    "\n",
    "# fg_pcd = o3d.geometry.PointCloud()\n",
    "# fg_pcd.points = o3d.utility.Vector3dVector(xyz.detach().double().cpu().numpy())\n",
    "# cl, ind = fg_pcd.remove_statistical_outlier(nb_neighbors=20, std_ratio=20.)\n",
    "# fg_pcd = fg_pcd.select_by_index(ind)\n",
    "# fg_pcd.estimate_normals(\n",
    "#     o3d.geometry.KDTreeSearchParamKNN(knn=30), fast_normal_computation=True)\n",
    "# o3d_mesh, o3d_densities = \\\n",
    "#     o3d.geometry.TriangleMesh.create_from_point_cloud_poisson(fg_pcd, depth=9)\n",
    "\n",
    "# v_to_remove = o3d_densities < np.quantile(o3d_densities, 0.01)\n",
    "# o3d_mesh.remove_vertices_by_mask(v_to_remove)\n",
    "\n",
    "# o3d_mesh.remove_degenerate_triangles()\n",
    "# o3d_mesh.remove_duplicated_triangles()\n",
    "# o3d_mesh.remove_duplicated_vertices()\n",
    "# o3d_mesh.remove_non_manifold_edges()"
   ]
  },
  {
   "cell_type": "code",
   "execution_count": null,
   "metadata": {},
   "outputs": [],
   "source": [
    "import numpy as np\n",
    "from geo.flexicubes import FlexiCubes\n",
    "\n",
    "# 3. init flexicube (differentiable iso-surface extrator)\n",
    "marching_geo    = FlexiCubes()\n",
    "grid_res = coarse_res\n",
    "marching_verts, indices = marching_geo.construct_voxel_grid(grid_res)\n",
    "marching_verts *= scene_scale\n",
    "# sdf, fid, bc = pcu.signed_distance_to_mesh(marching_verts.cpu().numpy(), vw.astype(np.float32), fw)\n",
    "\n",
    "sdf = torch.zeros([coarse_res+1]*3, device=device)\n",
    "sdf[:-1, :-1, :-1] = mc_grid-0.1\n",
    "sdf = sdf.flatten()\n",
    "sdf = torch.nn.Parameter(torch.tensor(sdf, device=device), requires_grad=True)\n",
    "deform = torch.nn.Parameter(torch.zeros_like(marching_verts), requires_grad=True)\n",
    "per_cube_weights = torch.nn.Parameter(\n",
    "    torch.ones((indices.shape[0], 21), dtype=torch.float32, device=device), requires_grad=True)"
   ]
  },
  {
   "cell_type": "code",
   "execution_count": null,
   "metadata": {},
   "outputs": [],
   "source": [
    "v_deformed = marching_verts + 0 * torch.tanh(deform)\n",
    "verts, faces, reg_loss = marching_geo(v_deformed, sdf, indices, grid_res, \n",
    "                    per_cube_weights[:,:12], per_cube_weights[:,12:20], per_cube_weights[:,20],\n",
    "                    training=True)\n",
    "import trimesh\n",
    "mesh = trimesh.Trimesh(vertices=verts.detach().cpu(), faces=faces.detach().cpu())\n",
    "mesh.show()"
   ]
  },
  {
   "cell_type": "code",
   "execution_count": null,
   "metadata": {},
   "outputs": [],
   "source": [
    "marching_verts.shape, indices.shape"
   ]
  },
  {
   "cell_type": "code",
   "execution_count": null,
   "metadata": {},
   "outputs": [],
   "source": [
    "po"
   ]
  }
 ],
 "metadata": {
  "kernelspec": {
   "display_name": "gaussian_splatting",
   "language": "python",
   "name": "python3"
  },
  "language_info": {
   "codemirror_mode": {
    "name": "ipython",
    "version": 3
   },
   "file_extension": ".py",
   "mimetype": "text/x-python",
   "name": "python",
   "nbconvert_exporter": "python",
   "pygments_lexer": "ipython3",
   "version": "3.8.18"
  }
 },
 "nbformat": 4,
 "nbformat_minor": 2
}
